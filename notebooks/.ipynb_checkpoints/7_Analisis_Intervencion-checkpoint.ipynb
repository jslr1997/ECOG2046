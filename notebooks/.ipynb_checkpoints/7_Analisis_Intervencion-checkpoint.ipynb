{
 "cells": [
  {
   "cell_type": "code",
   "execution_count": 2,
   "metadata": {},
   "outputs": [],
   "source": [
    "import numpy as np\n",
    "import pandas as pd\n",
    "import statsmodels.api as sm\n",
    "import statsmodels.tsa as tsa\n",
    "import matplotlib.pyplot as plt \n",
    "from statsmodels import graphics\n",
    "from statsmodels.tsa.stattools import adfuller, zivot_andrews\n",
    "from statsmodels.graphics.api import qqplot\n",
    "import warnings\n",
    "\n",
    "\n",
    "import seaborn as sns\n",
    "%matplotlib inline"
   ]
  },
  {
   "cell_type": "markdown",
   "metadata": {},
   "source": [
    "____"
   ]
  },
  {
   "cell_type": "markdown",
   "metadata": {},
   "source": [
    "# Introducción\n",
    "\n",
    "El ex general de la KGB Sakharovsky dijo: \"En el mundo de hoy, cuando las armas nucleares han dejado obsoleta la fuerza militar, el terrorismo debería convertirse en nuestra arma principal\". Ahora, la mayoría de los analistas creen que el final de la Guerra Fría provocó una disminución dramática en el terrorismo patrocinado por el estado. \n",
    "\n",
    "Aunque los acontecimientos del 11 de septiembre de 2001 llamaron la atención del mundo sobre el terrorismo, la comunidad internacional experimentó un fuerte aumento del terrorismo transnacional a partir de fines de la década de 1960. Los terroristas participan en una amplia variedad de operaciones, incluidos asesinatos, ataques armados, bombardeos, secuestros y secuestros aéreos. Tales incidentes son particularmente atroces porque a menudo se dirigen a víctimas inocentes que no forman parte del aparato de toma de decisiones en el que los terroristas intentan influir.\n",
    "\n",
    "El conjunto de datos TERRORISM.XLS contiene los valores trimestrales de varios tipos de incidentes terroristas nacionales y transnacionales durante el período 1970Q1–2010Q4. La definición precisa de las variables se discute en [Enders, Sandler y Gaibulloev (2011)](https://journals.sagepub.com/doi/pdf/10.1177/0022343311398926). Si examinan los datos, puede ver que el número de ambos tipos de incidentes comienza a disminuir a principios de la década de 1990 como resultado de la desintegración de la Unión Soviética en 1991Q4. Hay una segunda disminución después de 1997Q4. El departamento de Estado de EE. UU. Atribuye esta disminución a las medidas diplomáticas y policiales que dificultan la operación de los terroristas."
   ]
  },
  {
   "cell_type": "code",
   "execution_count": null,
   "metadata": {},
   "outputs": [],
   "source": [
    "terrorism = pd.read_excel(r'Terrorism.xlsx')"
   ]
  },
  {
   "cell_type": "code",
   "execution_count": null,
   "metadata": {},
   "outputs": [],
   "source": [
    "terrorism.index = pd.period_range('1970-01-01', '2010-12-01', freq='Q')"
   ]
  },
  {
   "cell_type": "code",
   "execution_count": null,
   "metadata": {},
   "outputs": [],
   "source": [
    "terrorism.head()"
   ]
  },
  {
   "cell_type": "code",
   "execution_count": null,
   "metadata": {
    "scrolled": true
   },
   "outputs": [],
   "source": [
    "plt.figure(figsize=(12,6))\n",
    "terrorism.Domestic.plot()\n",
    "plt.xlabel('Year')\n",
    "plt.ylabel('Number')\n",
    "plt.legend()"
   ]
  },
  {
   "cell_type": "code",
   "execution_count": null,
   "metadata": {},
   "outputs": [],
   "source": [
    "plt.figure(figsize=(12,6))\n",
    "terrorism.Transnational.plot(color='r')\n",
    "plt.xlabel('Year')\n",
    "plt.ylabel('Number')\n",
    "plt.legend()"
   ]
  },
  {
   "cell_type": "markdown",
   "metadata": {},
   "source": [
    "_____"
   ]
  },
  {
   "cell_type": "markdown",
   "metadata": {},
   "source": [
    "# Modelo para el análisis\n",
    "\n",
    "El análisis de intervención permite una prueba formal de un cambio en la media de una serie de tiempo.\n",
    "Se considera el siguiente modelo para estudiar si las negociaciones diplomáticas tuvieron un efecto o no s0obre el número de incidentes. \n",
    "\n",
    "$y_t = a_0 + a_1 y_{t-1} + c_0 z_t + e_t$, $|a_1|<1$\n",
    "\n",
    "Donde $z_t$ es la variable de intervención, que toma el valor de 1 para fchas mayor o igual a 1997:Q4, y 0 caso contrario. $e_t$ es un error ruido blanco."
   ]
  },
  {
   "cell_type": "code",
   "execution_count": null,
   "metadata": {},
   "outputs": [],
   "source": [
    "terrorism['z'] = (terrorism.index >= '1997-10-01').astype(int)"
   ]
  },
  {
   "cell_type": "code",
   "execution_count": null,
   "metadata": {},
   "outputs": [],
   "source": [
    "terrorism.head()"
   ]
  },
  {
   "cell_type": "markdown",
   "metadata": {},
   "source": [
    "Para entender la naturaleza del modelo, escribimos la solución del modelo en el momento t, como\n",
    "\n",
    "$y_t = a_0(1+a_1+a_1^2+...)+c_0\\sum_{i=0}^{\\infty}{a_1^iz_{t-i}}+\\sum_{i=0}^{\\infty}{a_1^ie_{t-i}}$\n",
    "\n",
    "\n",
    "$y_t = \\frac{a_0}{1-a_1}+c_0\\sum_{i=0}^{\\infty}{a_1^iz_{t-i}}+\\sum_{i=0}^{\\infty}{a_1^ie_{t-i}}$\n",
    "\n",
    "Es útil escribir la solución j períodos hacia adelante, es decir,\n",
    "\n",
    "$y_{t+j} = \\frac{a_0}{1-a_1}+c_0\\sum_{i=0}^{j}{a_1^iz_{t+j-i}}+\\sum_{i=0}^{j}{a_1^ie_{t+j-i}}$\n",
    "\n",
    "1. El valor medio de largo plazo de $y_t$ es $\\frac{a_0}{1-a_1}$, cuando $z_t=0$\n",
    "2. El valor medio de largo plazo de $y_t$ es $\\frac{a_0+c_0}{1-a_1}$, cuando $z_t=1$\n",
    "3. El efecto de la intervención en el largo plazo es $\\frac{c_0}{1-a_1}$\n",
    "\n",
    "Todo esto asumiendo que $|a_1|<1$"
   ]
  },
  {
   "cell_type": "markdown",
   "metadata": {},
   "source": [
    "## Extensión\n",
    "\n",
    "El modelo previo puede ser escrito de una manera mas generalizada \n",
    "\n",
    "$y_t = a_o + A(L)y_t + c_0z_t + B(L)e_t$\n",
    "\n",
    "Donde $A(L)$ y $B(L)$ spn polinomios del operador de rezago L.\n",
    "\n",
    "Por otro lado, la intervención puede ser más compleja: \n",
    "\n",
    "1. Una intervenci'on que se mantiene por siempre\n",
    "2. Una intervenci'on en un solo periodo\n",
    "3. Una intervenci'on que va creciendo en intensidad y luego se mantiene\n",
    "4. Una intervenci'on que decrece en intensidad \n",
    "\n",
    "\n",
    "<img src=\"fig10.png\">[1](#Notas)"
   ]
  },
  {
   "cell_type": "markdown",
   "metadata": {},
   "source": [
    "## Estimación de la intervención\n",
    "\n",
    "La forma lineal del modelo de intervención supone que los coeficientes son invariables luego de  la intervención. Una comprobación útil de este supuesto es  la estimación de los modelos $ARIMA(p,d,q)$ más apropiados para los períodos pre y posintervención. Si los dos modelos ARIMA son bastante diferentes, es probable que los coeficientes de promedio móvil y autorregresivo hayan cambiado.\n",
    "\n",
    "Por lo general, no hay suficientes observaciones previas y posteriores a la intervención para estimar dos modelos separados. En tales casos, el investigador debe utilizar el modelo ARIMA que mejor se ajuste durante el período de datos más largo. El procedimiento descrito a continuación es típico en la mayoría de los estudios de intervención.\n",
    "\n",
    "1. Usar la parte de data \"más larga\" (ya sea pre o post intervencion) para encontrar un conjunto de modelos ARIMA. Se puede usar el test Zivot y Andrews para confirmar cambios estructurales\n",
    "    - Se debe asegurar que la serie es estacionaria.\n",
    "    - Si se sospecha no estacioanriedad, realizar pruebas de raíz unitaria sobre la sección larga de datos. \n",
    "    - Si hay raíz unitaria, realizar el análisis de intervención sobre $\\Delta y_t$\n",
    "    - Recuerde que si hay raíz unitaria, un pulso permanente actua como un drift\n",
    "\n",
    "2. Estimar varios modelos sobre la muestra entera, incluyendo el efecto de la intervención.\n",
    "\n",
    "3. Realizar el diagnóstico de las ecuaciones estimadas\n",
    "    - Esta sección es fundamental. Recuerde que en el paso 2 estimamos un modelo (obtenido con la parte larga de datos) usando  todos los datos. Recuerde que un buen modelo debe tener: Todos los coeficientes debe ser estadisticamente significativos (considere la parsimonia).\n",
    "    - Los residuos deben ser ruido blancos. Si los residuos esta correlacionados, el modelo estimado no imita el proceso que genero los datos. Si los residuos no son normalmente distribuidos, las pruebas de hipotesis no son confiables, si la muestra es pequena.\n",
    "    - Usar AIC y BIC para comparar posibles modelos.\n",
    "    \n",
    "Considere que la variable intervención puede afectar a la variable de interés con cierto rezago _d_. Por ejemplo el modelo  de intervención pudiera ser:\n",
    "\n",
    "$y_t = a_o + A(L)y_t + c_0z_{t-d} + B(L)e_t$\n"
   ]
  },
  {
   "cell_type": "code",
   "execution_count": null,
   "metadata": {},
   "outputs": [],
   "source": [
    "terrorism_pre = terrorism[(terrorism.z == 0)]\n",
    "terrorism_post = terrorism[(terrorism.z == 1)]\n",
    "\n",
    "print(len(terrorism_pre))\n",
    "print(len(terrorism_post))\n",
    "\n",
    "terrorism_pre.head()"
   ]
  },
  {
   "cell_type": "code",
   "execution_count": null,
   "metadata": {},
   "outputs": [],
   "source": [
    "fig = plt.figure(figsize=(12,8))\n",
    "\n",
    "#Plot ACF\n",
    "ax1 = fig.add_subplot(211)\n",
    "fig = sm.graphics.tsa.plot_acf(terrorism_pre.Transnational, lags=40, ax=ax1)\n",
    "\n",
    "\n",
    "#Plot PACF\n",
    "ax2 = fig.add_subplot(212)\n",
    "fig = sm.graphics.tsa.plot_pacf(terrorism_pre['Transnational'], lags=40, ax=ax2)"
   ]
  },
  {
   "cell_type": "code",
   "execution_count": null,
   "metadata": {},
   "outputs": [],
   "source": [
    "# Generar el modelo\n",
    "model = sm.tsa.SARIMAX(terrorism_pre.Transnational, exog=  , order=(2,0,0), trend='c')\n",
    "\n",
    "# Estimar los parametros del modelo\n",
    "results = model.fit()\n",
    "\n",
    "print(results.summary())"
   ]
  },
  {
   "cell_type": "markdown",
   "metadata": {},
   "source": [
    "$y_t = a_0 + a_1 y_{t-1} + a_2y_{t-2}+c_0 z_t + e_t$, $|a_1|<1$"
   ]
  },
  {
   "cell_type": "code",
   "execution_count": null,
   "metadata": {},
   "outputs": [],
   "source": [
    "# Generar el modelo\n",
    "model = sm.tsa.SARIMAX(terrorism.Transnational, exog = terrorism.z, order=(2,0,0), trend='c')\n",
    "\n",
    "# Estimar los parametros del modelo\n",
    "results = model.fit()\n",
    "\n",
    "print(results.summary())"
   ]
  },
  {
   "cell_type": "code",
   "execution_count": null,
   "metadata": {},
   "outputs": [],
   "source": [
    "resid=results.resid.values"
   ]
  },
  {
   "cell_type": "code",
   "execution_count": null,
   "metadata": {},
   "outputs": [],
   "source": [
    "fig = plt.figure(figsize=(12,8))\n",
    "\n",
    "#Plot ACF\n",
    "ax1 = fig.add_subplot(211)\n",
    "fig = sm.graphics.tsa.plot_acf(resid, lags=20, ax=ax1)\n",
    "\n",
    "\n",
    "#Plot PACF\n",
    "ax2 = fig.add_subplot(212)\n",
    "fig = sm.graphics.tsa.plot_pacf(resid, lags=20, ax=ax2)"
   ]
  },
  {
   "cell_type": "code",
   "execution_count": null,
   "metadata": {},
   "outputs": [],
   "source": [
    "fig = plt.figure(figsize=(12,8))\n",
    "ax = fig.add_subplot(111)\n",
    "fig = qqplot(resid, line='q', ax=ax, fit=True)"
   ]
  },
  {
   "cell_type": "markdown",
   "metadata": {},
   "source": [
    "_____________"
   ]
  },
  {
   "cell_type": "markdown",
   "metadata": {},
   "source": [
    "# Modelo de rezagos distribuidos\n",
    "\n",
    "\n",
    "Considere el modelo:\n",
    "\n",
    "$y_t = a_o + A(L)y_t + C(L)z_{t} + B(L)e_t$\n",
    "\n",
    "Donde $A(L)$, $B(L)$, $C(L)$ son polinomios del operador de rezago L.\n",
    "\n",
    "Ahora se permite que la variable de intervención sea un proceso estacionario exógeno. Este modelo se denomina modelo de rezagos distribuidos en el que se distribuyen los efectos de $z_t$ sobre $y_t$ por varios periodos.\n",
    "\n",
    "El polinomio $C(L)=c_0 + c_1L +c_2 L^2+...$ se llama _funcion de trasnferenia_. Esta muestra como un movimiento de la variable exógena $z_t$ afecta en el tiempo a $y_t$. Los coeficientes de esta función de transferencia se denominan pesos.\n",
    "\n",
    "**Importante:** la función de trasnfrencia es independiente de la evolución de $y_t$. Los errores $e_t$ no tiene efecto alguno sobre la secuencia $z_t$ tal que $E(z_te_{t-s})=0$.\n",
    "\n",
    "Si $c_0=0$, el valor contemporáneo de $z_t$ no tiene efecto sobre $y_t$. En este caso $z_t$ es llamado a _leading indicator_ en la predicción de $y_{t+1}$ que puede ser hecha en el periodo t usando $z_t$, $z_{t-1}$, ... sin necesidad de conocer la predicción de $z_{t+1}$."
   ]
  },
  {
   "cell_type": "markdown",
   "metadata": {},
   "source": [
    "## Modelo de autoregressive distributed lag (ADL)\n",
    "\n",
    "\n",
    "Considere el modelo:\n",
    "\n",
    "$y_t = a_0 + A(L)y_{t-1} + C(L)z_{t} + e_t$\n",
    "\n",
    "A diferencia del modelo de intervención pura, no existe  un período pre-post intervención. No podemos estimar un ADL de la misma manera que solíamos estimar un modelo de intervención. Sin embargo, los métodos son similares en que el objetivo es estimar un modelo parsimonioso.\n",
    "\n",
    "Para poner en contexto, suponga que el modelo es $y_t = a_0 + a_1y_{t-1} + c_1z_{t} + e_t$. donde $z_t = d_1z_{t-1}+u_t$. Donde $e_t$ es un ruido blanco tal que $E(z_t e_{t-i})=0$, es decir $z_t$ es independiente de $e_t$.\n"
   ]
  },
  {
   "cell_type": "code",
   "execution_count": 2,
   "metadata": {},
   "outputs": [],
   "source": [
    "n =120\n",
    "\n",
    "y = np.zeros(n) \n",
    "\n",
    "z = np.zeros(n) \n",
    " \n",
    "\n",
    "for i in range(0,n):\n",
    "    \n",
    "    e = np.random.normal(0, 1, 1)\n",
    "    u = np.random.normal(0, 1, 1)\n",
    "    \n",
    "    \n",
    "    z[i] = 0.5*z[i - 1] + u\n",
    "    \n",
    "    y[i] = 0.8*y[i - 1] + 0.5*z[i]+e\n",
    "\n",
    "y = pd.Series(y)    \n",
    "\n",
    "z = pd.Series(z)\n",
    "\n",
    "frame = {'y':y,'z':z}"
   ]
  },
  {
   "cell_type": "code",
   "execution_count": 3,
   "metadata": {},
   "outputs": [],
   "source": [
    "df = pd.DataFrame(frame) \n",
    "df.index = pd.period_range('2001-01-01', '2010-12-01', freq='M')"
   ]
  },
  {
   "cell_type": "markdown",
   "metadata": {},
   "source": [
    "______"
   ]
  },
  {
   "cell_type": "markdown",
   "metadata": {},
   "source": [
    "# Identificación y Estimación\n",
    "\n",
    "Para entender el procedimiento, considere que estamos interesados em estimar el siguiente modelo\n",
    "\n",
    "$y_t = a_0 + a_1y_{t-1} + c_1z_{t} + e_t$ donde $z_t = d_1z_{t-1}+u_t$\n",
    "\n",
    "## Paso 1: Estimar un proceso AR para  $z_t$ \n",
    "\n",
    "Estimar un proceso AR para la secuencia $z_t$ de la manera tradicional.  Los residuos estimados $\\hat{u}_{t}$ se denominan valores filtrados de la serie $z_t$. Estos valores filtrados pueden interpretarse como las innovaciones puras de la serie $z_t$."
   ]
  },
  {
   "cell_type": "code",
   "execution_count": 4,
   "metadata": {},
   "outputs": [
    {
     "data": {
      "image/png": "[encoded data removed]",
      "text/plain": [
       "<Figure size 864x576 with 2 Axes>"
      ]
     },
     "metadata": {
      "needs_background": "light"
     },
     "output_type": "display_data"
    }
   ],
   "source": [
    "fig = plt.figure(figsize=(12,8))\n",
    "\n",
    "#Plot ACF\n",
    "ax1 = fig.add_subplot(211)\n",
    "fig = sm.graphics.tsa.plot_acf(df.z, lags=20, ax=ax1)\n",
    "\n",
    "\n",
    "#Plot PACF\n",
    "ax2 = fig.add_subplot(212)\n",
    "fig = sm.graphics.tsa.plot_pacf(df.z, lags=20, ax=ax2)"
   ]
  },
  {
   "cell_type": "code",
   "execution_count": 5,
   "metadata": {},
   "outputs": [],
   "source": [
    "aic = pd.DataFrame(np.zeros((6,6), dtype=float))\n",
    "bic = pd.DataFrame(np.zeros((6,6), dtype=float))\n",
    "hqic = pd.DataFrame(np.zeros((6,6), dtype=float))\n",
    "\n",
    "warnings.simplefilter('ignore')\n",
    "\n",
    "# Iterate over all ARMA(p,q) models with p,q in [0,6]\n",
    "for p in range(6):\n",
    "    for q in range(6):\n",
    "        if p == 0 and q == 0:\n",
    "            continue\n",
    "\n",
    "        # Estimate the model with no missing datapoints\n",
    "        mod = sm.tsa.statespace.SARIMAX(z, order=(p,0,q), trend='c',enforce_invertibility=False)\n",
    "        try:\n",
    "            res = mod.fit(disp=False)\n",
    "            aic.iloc[p,q] = res.aic\n",
    "            bic.iloc[p,q] = res.bic\n",
    "            hqic.iloc[p,q] = res.hqic\n",
    "        except:\n",
    "            aic.iloc[p,q] = np.nan\n",
    "            bic.iloc[p,q] = np.nan\n",
    "            hqic.iloc[p,q] = np.nan"
   ]
  },
  {
   "cell_type": "code",
   "execution_count": 6,
   "metadata": {},
   "outputs": [
    {
     "name": "stdout",
     "output_type": "stream",
     "text": [
      "                               SARIMAX Results                                \n",
      "==============================================================================\n",
      "Dep. Variable:                      z   No. Observations:                  120\n",
      "Model:               SARIMAX(1, 0, 0)   Log Likelihood                -173.531\n",
      "Date:                Tue, 28 Jul 2020   AIC                            351.062\n",
      "Time:                        14:57:55   BIC                            356.637\n",
      "Sample:                    01-31-2001   HQIC                           353.326\n",
      "                         - 12-31-2010                                         \n",
      "Covariance Type:                  opg                                         \n",
      "==============================================================================\n",
      "                 coef    std err          z      P>|z|      [0.025      0.975]\n",
      "------------------------------------------------------------------------------\n",
      "ar.L1          0.4463      0.082      5.452      0.000       0.286       0.607\n",
      "sigma2         1.0539      0.151      6.986      0.000       0.758       1.350\n",
      "===================================================================================\n",
      "Ljung-Box (Q):                       23.63   Jarque-Bera (JB):                 1.51\n",
      "Prob(Q):                              0.98   Prob(JB):                         0.47\n",
      "Heteroskedasticity (H):               1.23   Skew:                            -0.15\n",
      "Prob(H) (two-sided):                  0.51   Kurtosis:                         2.54\n",
      "===================================================================================\n",
      "\n",
      "Warnings:\n",
      "[1] Covariance matrix calculated using the outer product of gradients (complex-step).\n"
     ]
    }
   ],
   "source": [
    "model = sm.tsa.statespace.SARIMAX(df.z, order=(1,0,0), trend=None)\n",
    "results = model.fit()\n",
    "resid = results.resid\n",
    "print(results.summary())"
   ]
  },
  {
   "cell_type": "markdown",
   "metadata": {},
   "source": [
    "## Paso 2: Identificar la función $C(L)$\n",
    "\n",
    "Construir la serie secuencia filtrada {yt} aplicando el filtro $D (L)$ a cada valor de $y_t$; es decir, use los resultados del Paso 1. \n",
    "\n",
    "El correlograma cruzado entre $y_{t}$ y $z_{t-i}$ pueden ayudar a identificar la forma de $C(L)$. Recuerde que los picos en el correlograma cruzado indican valores distintos de cero de $c_i$. En la práctica, el análisis del correlograma cruzado sugerirá varias funciones de transferencia.\n",
    "\n",
    "Por supuesto, las covarianzas cruzadas de muestra no se ajustarán con precisión a sus valores teóricos. Bajo la hipótesis nula de que las correlaciones cruzadas son todas cero, la varianza muestral del coeficiente de correlación cruzada i converge asintóticamente a $(T - i)^{−1}$ donde T = número de observaciones usadas. \n",
    "\n",
    "Supongamos que $r_{yz}(i)$ denota el coeficiente de correlación cruzada de la muestra entre $y_{t}$ y $z_{t−i}$. Bajo la hipótesis nula de que los valores verdaderos de $\\rho_{yz}(i)$ son todos iguales a cero, la varianza de $r_{yz}(i)$ converge a \n",
    "\n",
    "$var(r_{yz}(i))= (T-i)^{−1} $\n",
    "\n",
    "Por ejemplo, con 100 observaciones , la desviación estándar del coeficiente de correlación cruzada es aproximadamente igual a 0.10. Si el valor calculado de  $r_{yz}(1)$  excede 0.2 (o es menor que −0.2), la hipótesis nula puede ser rechazada. Las correlaciones cruzadas significativas en el rezago i indican que una innovación en $z_t$afecta el valor de $y_{t+i}$. Para probar la significancia estadística de las primeras k correlaciones cruzadas, use la estadística\n",
    "\n",
    "\n",
    "$ Q = T (T + 2) \\frac{\\sum_{i=0}^k{r^2_{yz}(i)}}{T-k}$\n",
    "\n",
    "Asintóticamente, Q tiene una distribución $\\chi^2$ con $(k - p_1 - p_2)$ grados de libertad donde $p_1$ y $p_2$ denotan el número de coeficientes distintos de cero en $A(L)$ y $C(L)$, respectivamente."
   ]
  },
  {
   "cell_type": "code",
   "execution_count": 7,
   "metadata": {},
   "outputs": [
    {
     "data": {
      "text/plain": [
       "array([0.45305129, 0.29221862, 0.27861419, 0.17767854, 0.10036341,\n",
       "       0.02995018, 0.03878826, 0.07038307, 0.06549398])"
      ]
     },
     "execution_count": 7,
     "metadata": {},
     "output_type": "execute_result"
    }
   ],
   "source": [
    "r = sm.tsa.stattools.ccf(df.z,df.y, unbiased=True)\n",
    "r[0:9]"
   ]
  },
  {
   "cell_type": "code",
   "execution_count": 9,
   "metadata": {},
   "outputs": [
    {
     "name": "stdout",
     "output_type": "stream",
     "text": [
      "correlacion 0 = 2.48 , cov = 0.45 2 * Var = 0.1826\n",
      "correlacion 1 = 1.59 , cov = 0.29 2 * Var = 0.1833\n",
      "correlacion 2 = 1.51 , cov = 0.28 2 * Var = 0.1841\n",
      "correlacion 3 = 0.96 , cov = 0.18 2 * Var = 0.1849\n",
      "correlacion 4 = 0.54 , cov = 0.10 2 * Var = 0.1857\n",
      "correlacion 5 = 0.16 , cov = 0.03 2 * Var = 0.1865\n",
      "correlacion 6 = 0.21 , cov = 0.04 2 * Var = 0.1873\n",
      "correlacion 7 = 0.37 , cov = 0.07 2 * Var = 0.1881\n",
      "correlacion 8 = 0.35 , cov = 0.07 2 * Var = 0.1890\n",
      "correlacion 9 = 0.53 , cov = 0.10 2 * Var = 0.1898\n"
     ]
    }
   ],
   "source": [
    "T =len(df.z)\n",
    "\n",
    "for i in range(0, 10):\n",
    "        \n",
    "    print('correlacion',i, '=', format(r[i]/(2*(T-i)**(-0.5)),'.2f'), ', cov =',\n",
    "          format(r[i],'.2f'), '2 * Var =', format(2*(T-i)**(-0.5),'.4f'))"
   ]
  },
  {
   "cell_type": "markdown",
   "metadata": {},
   "source": [
    "### Calculo de las correlaciones cruzadas\n",
    "\n",
    "Lacorrelación cruzada (CCF) es definida,\n",
    "\n",
    "$\\rho_{yz}(i)=\\frac{cov(y_t,z_{t-i})}{\\sigma_y \\sigma_z}$\n",
    "\n",
    "Se asume que las desviaciones standards son independientes del tiempo. Para el modelo previo, calculamos las covarianzas cruzadas (CCVF)\n",
    "\n",
    "\n",
    "$Cov(y_t,z_{t})=E(y_t,z_{t})= \\frac{c_1 \\sigma_z^2 }{1-a_1d_1}$, donde $E(z_{t})=0$\n",
    "\n",
    "$Cov(y_t,z_{t-1})=E(y_t,z_{t-1})=c_1d_1\\sigma_z^2+\\frac{c_1 a_1\\sigma_z^2 }{1-a_1d_1} $, donde $E(z_{t-1})=0$\n",
    "\n",
    "$Cov(y_t,z_{t-2})=E(y_t,z_{t-2})= c_1d_1\\sigma_z^2(a_1+d_1)+\\frac{c_1 a^2_1\\sigma_z^2 }{1-a_1d_1} $, donde $E(z_{t-2})=0$\n",
    "\n",
    "Para obtener las correlaciones $\\rho_{yz}$, se dividen las covarianzas para $\\sigma_y$ y $\\sigma_z$. En algunos caso se divide para $\\sigma_z^2$. Alog que es indiferente datoa qu ambas formas son proporcionales entre sí.\n",
    "\n",
    "$\\rho_{yz}(1)=\\frac{cov(y_t,z_{t-1})}{\\sigma_y \\sigma_z}$\n",
    "\n",
    "El teórico (y CCF) tiene las siguientes características:\n",
    "\n",
    "1. Todas las $cov_{yz}(i)$ serán cero hasta el primer elemento distinto de cero del polinomio $C(L)$.\n",
    "2. Un pico en el CCVF indica un elemento distinto de cero de C(L). Por lo tanto, un pico en el lag d indica que $z_{t-d}$ afecta directamente a $y_t$.\n",
    "3. Todos los picos decaen a la tasa de convergencia $a_1$, si s menor que la unidad. Si $0 <a_1 <1$, la convergencia será monotánica, pero si $−1 <a_1 <0$, el patrón  será oscilatorio. \n",
    "\n",
    "La naturaleza del proceso de convergencia cambia si se incluyen retrasos adicionales de $y_{t-i}$. En el caso general el patrón de convergencia en las covarianzas cruzadas está determinado por las raíces características del polinomio $A(L)$; la forma es precisamente la sugerida por las autocorrelaciones de un modelo ARMA. Sabemos que habrá convergencia si  todas las raíces características de $1-A(L)$  están fuera del círculo unitario para que el proceso sea estacionario. "
   ]
  },
  {
   "cell_type": "code",
   "execution_count": null,
   "metadata": {},
   "outputs": [],
   "source": [
    "# new_df = pd.merge(df, df_1, how=\"left\", left_index=True, right_index=True) # pri\n",
    "\n",
    "# new_df['yf'] = new_df['y']-0.31*new_df['y'].shift()\n",
    "\n",
    "# new_df=new_df[1:]\n"
   ]
  },
  {
   "cell_type": "markdown",
   "metadata": {},
   "source": [
    "## Paso 3\n",
    "\n",
    "Estimar el modelo $y_t = C(L)z_{t} + v_t$, usando la epecificacion del paso 1\n",
    "\n",
    "$v_t$ es el termino de error, no necesariamente ruido blanco\n",
    "\n",
    "\n",
    "El ACF de $v_t$ sugiere la forma de $A(L)$. Si la secuencia $v_t$ es ruido blanco, su tarea está completa. Sin embargo, el correlograma generalmente revela varias formas sugerentes para $A(L)$. \n",
    "\n",
    "**Importante:** Es posible que desee modelar el modelo más general. Si el ACF y el PACF de la serie $v_t$ sugieren que podría ser un proceso ARMA, forme modelos tentativos para $A(L)$ y $B(L)$."
   ]
  },
  {
   "cell_type": "code",
   "execution_count": 10,
   "metadata": {},
   "outputs": [
    {
     "data": {
      "text/html": [
       "<div>\n",
       "<style scoped>\n",
       "    .dataframe tbody tr th:only-of-type {\n",
       "        vertical-align: middle;\n",
       "    }\n",
       "\n",
       "    .dataframe tbody tr th {\n",
       "        vertical-align: top;\n",
       "    }\n",
       "\n",
       "    .dataframe thead th {\n",
       "        text-align: right;\n",
       "    }\n",
       "</style>\n",
       "<table border=\"1\" class=\"dataframe\">\n",
       "  <thead>\n",
       "    <tr style=\"text-align: right;\">\n",
       "      <th></th>\n",
       "      <th>y</th>\n",
       "      <th>z</th>\n",
       "      <th>lz</th>\n",
       "      <th>l2z</th>\n",
       "      <th>ly</th>\n",
       "    </tr>\n",
       "  </thead>\n",
       "  <tbody>\n",
       "    <tr>\n",
       "      <th>2001-03</th>\n",
       "      <td>-1.287994</td>\n",
       "      <td>-0.989839</td>\n",
       "      <td>-1.205627</td>\n",
       "      <td>-0.765268</td>\n",
       "      <td>-1.019047</td>\n",
       "    </tr>\n",
       "    <tr>\n",
       "      <th>2001-04</th>\n",
       "      <td>-2.361147</td>\n",
       "      <td>-0.084683</td>\n",
       "      <td>-0.989839</td>\n",
       "      <td>-1.205627</td>\n",
       "      <td>-1.287994</td>\n",
       "    </tr>\n",
       "    <tr>\n",
       "      <th>2001-05</th>\n",
       "      <td>-2.713800</td>\n",
       "      <td>-0.574520</td>\n",
       "      <td>-0.084683</td>\n",
       "      <td>-0.989839</td>\n",
       "      <td>-2.361147</td>\n",
       "    </tr>\n",
       "    <tr>\n",
       "      <th>2001-06</th>\n",
       "      <td>-1.846333</td>\n",
       "      <td>-0.034124</td>\n",
       "      <td>-0.574520</td>\n",
       "      <td>-0.084683</td>\n",
       "      <td>-2.713800</td>\n",
       "    </tr>\n",
       "    <tr>\n",
       "      <th>2001-07</th>\n",
       "      <td>-0.900433</td>\n",
       "      <td>1.204163</td>\n",
       "      <td>-0.034124</td>\n",
       "      <td>-0.574520</td>\n",
       "      <td>-1.846333</td>\n",
       "    </tr>\n",
       "    <tr>\n",
       "      <th>...</th>\n",
       "      <td>...</td>\n",
       "      <td>...</td>\n",
       "      <td>...</td>\n",
       "      <td>...</td>\n",
       "      <td>...</td>\n",
       "    </tr>\n",
       "    <tr>\n",
       "      <th>2010-08</th>\n",
       "      <td>1.039841</td>\n",
       "      <td>-1.406210</td>\n",
       "      <td>-0.679840</td>\n",
       "      <td>0.792743</td>\n",
       "      <td>3.947401</td>\n",
       "    </tr>\n",
       "    <tr>\n",
       "      <th>2010-09</th>\n",
       "      <td>1.562592</td>\n",
       "      <td>1.363738</td>\n",
       "      <td>-1.406210</td>\n",
       "      <td>-0.679840</td>\n",
       "      <td>1.039841</td>\n",
       "    </tr>\n",
       "    <tr>\n",
       "      <th>2010-10</th>\n",
       "      <td>-0.123626</td>\n",
       "      <td>-1.660331</td>\n",
       "      <td>1.363738</td>\n",
       "      <td>-1.406210</td>\n",
       "      <td>1.562592</td>\n",
       "    </tr>\n",
       "    <tr>\n",
       "      <th>2010-11</th>\n",
       "      <td>0.887471</td>\n",
       "      <td>-0.733093</td>\n",
       "      <td>-1.660331</td>\n",
       "      <td>1.363738</td>\n",
       "      <td>-0.123626</td>\n",
       "    </tr>\n",
       "    <tr>\n",
       "      <th>2010-12</th>\n",
       "      <td>0.008081</td>\n",
       "      <td>-1.162450</td>\n",
       "      <td>-0.733093</td>\n",
       "      <td>-1.660331</td>\n",
       "      <td>0.887471</td>\n",
       "    </tr>\n",
       "  </tbody>\n",
       "</table>\n",
       "<p>118 rows × 5 columns</p>\n",
       "</div>"
      ],
      "text/plain": [
       "                y         z        lz       l2z        ly\n",
       "2001-03 -1.287994 -0.989839 -1.205627 -0.765268 -1.019047\n",
       "2001-04 -2.361147 -0.084683 -0.989839 -1.205627 -1.287994\n",
       "2001-05 -2.713800 -0.574520 -0.084683 -0.989839 -2.361147\n",
       "2001-06 -1.846333 -0.034124 -0.574520 -0.084683 -2.713800\n",
       "2001-07 -0.900433  1.204163 -0.034124 -0.574520 -1.846333\n",
       "...           ...       ...       ...       ...       ...\n",
       "2010-08  1.039841 -1.406210 -0.679840  0.792743  3.947401\n",
       "2010-09  1.562592  1.363738 -1.406210 -0.679840  1.039841\n",
       "2010-10 -0.123626 -1.660331  1.363738 -1.406210  1.562592\n",
       "2010-11  0.887471 -0.733093 -1.660331  1.363738 -0.123626\n",
       "2010-12  0.008081 -1.162450 -0.733093 -1.660331  0.887471\n",
       "\n",
       "[118 rows x 5 columns]"
      ]
     },
     "execution_count": 10,
     "metadata": {},
     "output_type": "execute_result"
    }
   ],
   "source": [
    "df['lz'] =df['z'].shift()\n",
    "df['l2z']=df['z'].shift(periods=2)\n",
    "df['ly'] =df['y'].shift()\n",
    "df=df[2:]\n",
    "df"
   ]
  },
  {
   "cell_type": "code",
   "execution_count": 19,
   "metadata": {},
   "outputs": [
    {
     "name": "stdout",
     "output_type": "stream",
     "text": [
      "                                 OLS Regression Results                                \n",
      "=======================================================================================\n",
      "Dep. Variable:                      y   R-squared (uncentered):                   0.328\n",
      "Model:                            OLS   Adj. R-squared (uncentered):              0.316\n",
      "Method:                 Least Squares   F-statistic:                              28.30\n",
      "Date:                Tue, 28 Jul 2020   Prob (F-statistic):                    9.78e-11\n",
      "Time:                        15:01:43   Log-Likelihood:                         -255.07\n",
      "No. Observations:                 118   AIC:                                      514.1\n",
      "Df Residuals:                     116   BIC:                                      519.7\n",
      "Df Model:                           2                                                  \n",
      "Covariance Type:            nonrobust                                                  \n",
      "==============================================================================\n",
      "                 coef    std err          t      P>|t|      [0.025      0.975]\n",
      "------------------------------------------------------------------------------\n",
      "z              0.7352      0.189      3.882      0.000       0.360       1.110\n",
      "lz             0.7666      0.189      4.049      0.000       0.392       1.142\n",
      "==============================================================================\n",
      "Omnibus:                        4.923   Durbin-Watson:                   0.378\n",
      "Prob(Omnibus):                  0.085   Jarque-Bera (JB):                2.647\n",
      "Skew:                           0.093   Prob(JB):                        0.266\n",
      "Kurtosis:                       2.290   Cond. No.                         1.61\n",
      "==============================================================================\n",
      "\n",
      "Warnings:\n",
      "[1] Standard Errors assume that the covariance matrix of the errors is correctly specified.\n"
     ]
    }
   ],
   "source": [
    "X1 = [df['z'],df['lz']]\n",
    "X1 = np.column_stack(X1)\n",
    "# X1 = sm.add_constant(X1)\n",
    "\n",
    "model2 = sm.OLS(df['y'],X1)\n",
    "results2 = model2.fit()\n",
    "resid2 = results2.resid\n",
    "print(results2.summary(xname=['z','lz']))"
   ]
  },
  {
   "cell_type": "code",
   "execution_count": 13,
   "metadata": {},
   "outputs": [
    {
     "data": {
      "image/png": "[encoded data removed]",
      "text/plain": [
       "<Figure size 864x576 with 2 Axes>"
      ]
     },
     "metadata": {
      "needs_background": "light"
     },
     "output_type": "display_data"
    }
   ],
   "source": [
    "fig = plt.figure(figsize=(12,8))\n",
    "\n",
    "#Plot ACF\n",
    "ax1 = fig.add_subplot(211)\n",
    "fig = sm.graphics.tsa.plot_acf(resid2, lags=20, ax=ax1)\n",
    "\n",
    "\n",
    "#Plot PACF\n",
    "ax2 = fig.add_subplot(212)\n",
    "fig = sm.graphics.tsa.plot_pacf(resid2, lags=20, ax=ax2)"
   ]
  },
  {
   "cell_type": "markdown",
   "metadata": {},
   "source": [
    "## Paso 4: Combinar pasos 2 y 3 para estimar la ecuación completa.\n",
    "\n",
    "En esta etapa, estimará A (L) y C (L) simultáneamente. Las propiedades de un modelo bien estimado son tales que los coeficientes son de alta calidad, el modelo es parsimonioso, los residuos se ajustan a un proceso de ruido blanco y los errores de pronóstico son pequeños. Debe comparar su modelo estimado con los otros candidatos posibles de los Pasos 2 y 3."
   ]
  },
  {
   "cell_type": "code",
   "execution_count": 20,
   "metadata": {},
   "outputs": [
    {
     "name": "stdout",
     "output_type": "stream",
     "text": [
      "                            OLS Regression Results                            \n",
      "==============================================================================\n",
      "Dep. Variable:                      y   R-squared:                       0.854\n",
      "Model:                            OLS   Adj. R-squared:                  0.852\n",
      "Method:                 Least Squares   F-statistic:                     337.4\n",
      "Date:                Tue, 28 Jul 2020   Prob (F-statistic):           7.67e-49\n",
      "Time:                        15:02:22   Log-Likelihood:                -158.72\n",
      "No. Observations:                 118   AIC:                             323.4\n",
      "Df Residuals:                     115   BIC:                             331.7\n",
      "Df Model:                           2                                         \n",
      "Covariance Type:            nonrobust                                         \n",
      "==============================================================================\n",
      "                 coef    std err          t      P>|t|      [0.025      0.975]\n",
      "------------------------------------------------------------------------------\n",
      "const         -0.0232      0.092     -0.253      0.801      -0.205       0.158\n",
      "z              0.4507      0.080      5.623      0.000       0.292       0.609\n",
      "ly             0.8418      0.037     22.617      0.000       0.768       0.915\n",
      "==============================================================================\n",
      "Omnibus:                        0.946   Durbin-Watson:                   1.805\n",
      "Prob(Omnibus):                  0.623   Jarque-Bera (JB):                0.865\n",
      "Skew:                          -0.207   Prob(JB):                        0.649\n",
      "Kurtosis:                       2.936   Cond. No.                         2.82\n",
      "==============================================================================\n",
      "\n",
      "Warnings:\n",
      "[1] Standard Errors assume that the covariance matrix of the errors is correctly specified.\n"
     ]
    }
   ],
   "source": [
    "# X1 = [df['z'],df['lz'],df['ly']]\n",
    "X1 = [df['z'],df['ly']]\n",
    "X1 = np.column_stack(X1)\n",
    "X1 = sm.add_constant(X1)\n",
    "\n",
    "model3 = sm.OLS(df['y'],X1)\n",
    "results3 = model3.fit()\n",
    "resid3 = results3.resid\n",
    "# print(results3.summary(xname=['const','z','lz','ly']))\n",
    "print(results3.summary(xname=['const','z','ly']))"
   ]
  },
  {
   "cell_type": "code",
   "execution_count": 21,
   "metadata": {},
   "outputs": [
    {
     "data": {
      "image/png": "[encoded data removed]",
      "text/plain": [
       "<Figure size 864x576 with 2 Axes>"
      ]
     },
     "metadata": {
      "needs_background": "light"
     },
     "output_type": "display_data"
    }
   ],
   "source": [
    "fig = plt.figure(figsize=(12,8))\n",
    "\n",
    "#Plot ACF\n",
    "ax1 = fig.add_subplot(211)\n",
    "fig = sm.graphics.tsa.plot_acf(resid3, lags=20, ax=ax1)\n",
    "\n",
    "\n",
    "#Plot PACF\n",
    "ax2 = fig.add_subplot(212)\n",
    "fig = sm.graphics.tsa.plot_pacf(resid3, lags=20, ax=ax2)"
   ]
  },
  {
   "cell_type": "code",
   "execution_count": 3,
   "metadata": {},
   "outputs": [],
   "source": [
    "italy = pd.read_excel(r'italy.xlsx')"
   ]
  },
  {
   "cell_type": "code",
   "execution_count": 4,
   "metadata": {},
   "outputs": [
    {
     "data": {
      "text/html": [
       "<div>\n",
       "<style scoped>\n",
       "    .dataframe tbody tr th:only-of-type {\n",
       "        vertical-align: middle;\n",
       "    }\n",
       "\n",
       "    .dataframe tbody tr th {\n",
       "        vertical-align: top;\n",
       "    }\n",
       "\n",
       "    .dataframe thead th {\n",
       "        text-align: right;\n",
       "    }\n",
       "</style>\n",
       "<table border=\"1\" class=\"dataframe\">\n",
       "  <thead>\n",
       "    <tr style=\"text-align: right;\">\n",
       "      <th></th>\n",
       "      <th>ENTRY</th>\n",
       "      <th>Slitaly</th>\n",
       "      <th>Attkit</th>\n",
       "    </tr>\n",
       "  </thead>\n",
       "  <tbody>\n",
       "    <tr>\n",
       "      <th>0</th>\n",
       "      <td>1900-03-22 03:01:00</td>\n",
       "      <td>0.137936</td>\n",
       "      <td>0</td>\n",
       "    </tr>\n",
       "    <tr>\n",
       "      <th>1</th>\n",
       "      <td>1900-03-22 03:02:00</td>\n",
       "      <td>-0.013039</td>\n",
       "      <td>0</td>\n",
       "    </tr>\n",
       "    <tr>\n",
       "      <th>2</th>\n",
       "      <td>1900-03-22 03:03:00</td>\n",
       "      <td>0.050525</td>\n",
       "      <td>2</td>\n",
       "    </tr>\n",
       "    <tr>\n",
       "      <th>3</th>\n",
       "      <td>1900-03-22 03:04:00</td>\n",
       "      <td>0.126150</td>\n",
       "      <td>0</td>\n",
       "    </tr>\n",
       "    <tr>\n",
       "      <th>4</th>\n",
       "      <td>1900-03-22 04:01:00</td>\n",
       "      <td>0.182766</td>\n",
       "      <td>0</td>\n",
       "    </tr>\n",
       "  </tbody>\n",
       "</table>\n",
       "</div>"
      ],
      "text/plain": [
       "                ENTRY   Slitaly  Attkit\n",
       "0 1900-03-22 03:01:00  0.137936       0\n",
       "1 1900-03-22 03:02:00 -0.013039       0\n",
       "2 1900-03-22 03:03:00  0.050525       2\n",
       "3 1900-03-22 03:04:00  0.126150       0\n",
       "4 1900-03-22 04:01:00  0.182766       0"
      ]
     },
     "execution_count": 4,
     "metadata": {},
     "output_type": "execute_result"
    }
   ],
   "source": [
    "italy.head()"
   ]
  },
  {
   "cell_type": "code",
   "execution_count": 5,
   "metadata": {},
   "outputs": [
    {
     "data": {
      "image/png": "[encoded data removed]",
      "text/plain": [
       "<Figure size 864x576 with 2 Axes>"
      ]
     },
     "metadata": {
      "needs_background": "light"
     },
     "output_type": "display_data"
    }
   ],
   "source": [
    "fig = plt.figure(figsize=(12,8))\n",
    "\n",
    "#Plot ACF\n",
    "ax1 = fig.add_subplot(211)\n",
    "fig = sm.graphics.tsa.plot_acf(italy.Attkit, lags=20, ax=ax1)\n",
    "\n",
    "\n",
    "#Plot PACF\n",
    "ax2 = fig.add_subplot(212)\n",
    "fig = sm.graphics.tsa.plot_pacf(italy.Attkit, lags=20, ax=ax2)"
   ]
  },
  {
   "cell_type": "markdown",
   "metadata": {},
   "source": [
    "_____"
   ]
  },
  {
   "cell_type": "markdown",
   "metadata": {},
   "source": [
    "# Ideas finales\n",
    "\n",
    "\n",
    "Estimar un  ADL  implica una combinación de habilidad, arte y perseverancia que se desarrolla a través de la práctica. \n",
    "\n",
    "Tenga en cuenta que el objetivo es encontrar una representación parsimoniosa de una interacción potencialmente complicada entre las variables. Los diferentes modelos ARMA pueden tener implicaciones económicas similares y generar pronósticos similares. Sin embargo, hay algunos consejos que pueden ser bastante útiles.\n",
    "\n",
    "- Después de estimar el modelo completo en el Paso 4, si los residuos en $y_t=a_0 + \\sum_{i=1}^p{a_iy_{t-i}} + \\sum_{i=1}^n{c_iz_{t-i}}+e_t $ están correlacionados con $z_t$, la función $C(L)$ probablemente esté mal especificada. Regrese al Paso 3 y reformule las especificaciones de $A(L)$ y $C(L)$.\n",
    "\n",
    "- Las correlaciones cruzadas muestral no son significativas si $y_t$ y/o $z_t$ no son estacionarias. Puede probar cada una por separadao usando DF test. En presencia de raíces unitarias, se  recomiendan diferenciar cada variable hasta que sea estacionaria. \n",
    "\n",
    "La interpretación de la ADL depende del tipo de diferenciación realizada. Considere las siguientes tres especificaciones y suponga que $|a_1|<1$:\n",
    "\n",
    "1. $y_t = a_1y_{t-1} + c_0z_t + e_t$\n",
    "2.  $\\Delta y_t = a_1\\Delta y_{t-1} + c_0z_t + e_t$ \n",
    "3. $y_t = a_1y_{t-1} + c_0\\Delta z_t + e_t$\n",
    "\n",
    "\n",
    "En (1), un choque de una unidad en $z_t$ tiene el efecto inicial de aumentar $y_t$ en unidades de $c_0$. Este efecto inicial decae a la tasa $a_1$. En (2), un choque de una unidad en $z_t$ tiene el efecto inicial de aumentar el cambio en $y_t$ en  $c_0$. El efecto sobre el cambio decae a la tasa $a_1$, pero el efecto sobre el nivel de $y_t$ nunca decae. En (3), solo el cambio en $z_t$ afecta a $y_t$. Aquí, el choque en la secuencia $z_t$ tendrá un efecto temporal en el nivel de $y_t$. \n",
    "\n",
    "Tenga en cuenta que es posible obtener un modelo más parsimonioso al permitir términos MA. "
   ]
  },
  {
   "cell_type": "markdown",
   "metadata": {},
   "source": [
    "_____"
   ]
  },
  {
   "cell_type": "markdown",
   "metadata": {},
   "source": [
    "# Notas\n",
    "\n",
    "1. Figura tomada de Wanter Enders (2015) Applied Econometric Time Series, Fourth Edition. Corresponde a la pagina 263, figura 5.3"
   ]
  }
 ],
 "metadata": {
  "kernelspec": {
   "display_name": "Python 3",
   "language": "python",
   "name": "python3"
  },
  "language_info": {
   "codemirror_mode": {
    "name": "ipython",
    "version": 3
   },
   "file_extension": ".py",
   "mimetype": "text/x-python",
   "name": "python",
   "nbconvert_exporter": "python",
   "pygments_lexer": "ipython3",
   "version": "3.7.7"
  },
  "toc": {
   "base_numbering": 1,
   "nav_menu": {},
   "number_sections": true,
   "sideBar": true,
   "skip_h1_title": false,
   "title_cell": "Table of Contents",
   "title_sidebar": "Contents",
   "toc_cell": false,
   "toc_position": {
    "height": "calc(100% - 180px)",
    "left": "10px",
    "top": "150px",
    "width": "192px"
   },
   "toc_section_display": true,
   "toc_window_display": true
  },
  "varInspector": {
   "cols": {
    "lenName": 16,
    "lenType": 16,
    "lenVar": 40
   },
   "kernels_config": {
    "python": {
     "delete_cmd_postfix": "",
     "delete_cmd_prefix": "del ",
     "library": "var_list.py",
     "varRefreshCmd": "print(var_dic_list())"
    },
    "r": {
     "delete_cmd_postfix": ") ",
     "delete_cmd_prefix": "rm(",
     "library": "var_list.r",
     "varRefreshCmd": "cat(var_dic_list()) "
    }
   },
   "types_to_exclude": [
    "module",
    "function",
    "builtin_function_or_method",
    "instance",
    "_Feature"
   ],
   "window_display": false
  }
 },
 "nbformat": 4,
 "nbformat_minor": 4
}
