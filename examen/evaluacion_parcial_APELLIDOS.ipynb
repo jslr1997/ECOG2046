{
 "cells": [
  {
   "cell_type": "code",
   "execution_count": null,
   "metadata": {},
   "outputs": [],
   "source": [
    "import pandas as pd\n",
    "import numpy as np\n",
    "import statsmodels.api as sm\n",
    "import statsmodels.tsa as tsa\n",
    "from statsmodels.tsa.arima_process import arma_generate_sample\n",
    "import matplotlib.pyplot as plt \n",
    "from statsmodels.graphics.api import qqplot\n",
    "from statsmodels.tsa.stattools import adfuller, zivot_andrews\n",
    "%matplotlib inline\n",
    "from scipy import stats"
   ]
  },
  {
   "cell_type": "markdown",
   "metadata": {},
   "source": [
    "# Evaluación parcial\n",
    "\n",
    "**Instrucciones:**\n",
    "\n",
    "**¿Qué archivos necesito para realizar esta evaluación?** Usted necesita tres archivos: este notebook y 2 archivos csv (están en el gitbub del curso carpteta examen, busque los dos con sus apellidos terminando en \"_1\" y \"_2\"). Guarde esos archivos en su computadora.MANTENGA EL NOMBRE DE LOS ARCHIVOS CSV.\n",
    "\n",
    "**¿Dónde realizo la evaluación?** Desarrolle la evalución completamente en este notebook. NO use notebook adicional ni ningún otro software.\n",
    "\n",
    "**¿Qué debo entregar?**. Usted deberá entregar este notebook. LLamelo con sus apellidos. Por ejemplo si su nombre es Leonardo Sánchez, el notebok se llamará: evaluacion_parcial_Leonardo_Sanchez\n",
    "\n",
    "**¿Dónde debo subir el notebook?** Subirlo en el ambiente creado en MS Team del curso de econometría III.\n"
   ]
  },
  {
   "cell_type": "markdown",
   "metadata": {},
   "source": [
    "_________\n",
    "________"
   ]
  },
  {
   "cell_type": "markdown",
   "metadata": {},
   "source": [
    "# Problema (55 puntos)\n",
    "\n",
    "En esta sección usted deberá seleccionar el modelo ARMA que mejor se ajusta a los datos. "
   ]
  },
  {
   "cell_type": "markdown",
   "metadata": {},
   "source": [
    "## Importar los datos (5 puntos)\n",
    "\n",
    "Considere que la serie de datos disponible tiene frecuencia mensual, y comienza desde enero 2001."
   ]
  },
  {
   "cell_type": "code",
   "execution_count": null,
   "metadata": {},
   "outputs": [],
   "source": [
    "# aquí su código"
   ]
  },
  {
   "cell_type": "markdown",
   "metadata": {},
   "source": [
    "## Muestre las primeras 5 observaciones de los datos (2 puntos)"
   ]
  },
  {
   "cell_type": "code",
   "execution_count": null,
   "metadata": {},
   "outputs": [],
   "source": [
    "# aquí su código"
   ]
  },
  {
   "cell_type": "markdown",
   "metadata": {},
   "source": [
    "## Grafique la serie (5 puntos)"
   ]
  },
  {
   "cell_type": "code",
   "execution_count": null,
   "metadata": {},
   "outputs": [],
   "source": [
    "# aquí su código"
   ]
  },
  {
   "cell_type": "markdown",
   "metadata": {},
   "source": [
    "## Grafique las ACF y PACF (5 puntos)"
   ]
  },
  {
   "cell_type": "code",
   "execution_count": null,
   "metadata": {},
   "outputs": [],
   "source": [
    "# aquí su código"
   ]
  },
  {
   "cell_type": "markdown",
   "metadata": {},
   "source": [
    "## Qué tipo de proceso le sugieren estas funciones? (3 puntos)"
   ]
  },
  {
   "cell_type": "markdown",
   "metadata": {},
   "source": [
    "aquí su comentario"
   ]
  },
  {
   "cell_type": "markdown",
   "metadata": {},
   "source": [
    "## Usando los criterios de Akaike (AIC) y Bayesin (BIC), seleccione  indique que proceso esta representado por los datos (5 puntos)"
   ]
  },
  {
   "cell_type": "code",
   "execution_count": null,
   "metadata": {},
   "outputs": [],
   "source": [
    "# aquí su código"
   ]
  },
  {
   "cell_type": "markdown",
   "metadata": {},
   "source": [
    "aquí su comentario"
   ]
  },
  {
   "cell_type": "markdown",
   "metadata": {},
   "source": [
    "## Estime el proceso sugerido por el literal anterior (5 puntos)"
   ]
  },
  {
   "cell_type": "code",
   "execution_count": null,
   "metadata": {},
   "outputs": [],
   "source": [
    "# Cambie el código apropiadamente\n",
    "model = sm.tsa.SARIMAX(variable , order=(0,0,0), trend=None)\n",
    "\n",
    "# Estimar los parametros del modelo\n",
    "results = model.fit()\n",
    "\n",
    "print(results.summary())"
   ]
  },
  {
   "cell_type": "markdown",
   "metadata": {},
   "source": [
    "## Realice el pronóstico de los valores que tomaría la variable en los siguientes tres meses (5 puntos)"
   ]
  },
  {
   "cell_type": "code",
   "execution_count": null,
   "metadata": {},
   "outputs": [],
   "source": [
    "# aquí su código"
   ]
  },
  {
   "cell_type": "markdown",
   "metadata": {},
   "source": [
    "## Validación cruzada (20 puntos)\n",
    "\n",
    "A continuación deberá validar si el modelo estimado en el sección 2.7 es mejor que alguna alternativa sugerida. Especificamente, su profesor considera que el los datos que usted posee provienen de un proceso AR(1) \n",
    "\n",
    "$y_t= \\beta_0 + \\beta_1 y_{t-1}+ e_t$"
   ]
  },
  {
   "cell_type": "markdown",
   "metadata": {},
   "source": [
    "**Primero (12 puntos).** Haga la validación cruzada del modelo estimado en 2.7. Use 3 pronósticos y el 80\\% de los datos como training data. Al final deberá mostrar el error cuadrático medio para cada uno de estos tres pronósticos relacionados al modelo 2.7. A continuación el código que le permite desarrollar eso. Deberá ajustarlo apropiadamente."
   ]
  },
  {
   "cell_type": "code",
   "execution_count": null,
   "metadata": {},
   "outputs": [],
   "source": [
    "# Establecer el numero de pronosticos\n",
    "nforecasts = 3\n",
    "forecasts = {}\n",
    "\n",
    "# Obtener el numero de observaciones del training initial\n",
    "nobs = len(z)\n",
    "n_init_training = int(nobs * 0.56)\n",
    "\n",
    "# Crear el model para estimar con la muestra del initial training sample\n",
    "init_training_z = z.iloc[:n_init_training]\n",
    "mod = sm.tsa.SARIMAX(training_z, order=(1, 0, 0), trend=None)\n",
    "res = mod.fit()\n",
    "\n",
    "# Guardar los pronosticos inicialest\n",
    "forecasts[training_z.index[-1]] = res.forecast(steps=nforecasts)\n",
    "\n",
    "# Realizar el procedimiento al resto de la muestra\n",
    "for t in range(n_init_training, nobs):\n",
    "    # Actualizar los resultados mediante el agregar una observacion adicional\n",
    "    updated_z = z.iloc[t:t+1]\n",
    "    res = res.append(updated_z, refit=False)\n",
    "\n",
    "    # Guardar los nuevos resultados\n",
    "    forecasts[updated_z.index[0]] = res.forecast(steps=nforecasts)\n",
    "\n",
    "# Combinar todos los pronosticos dentro de un dataframe\n",
    "forecasts = pd.concat(forecasts, axis=1)\n",
    "\n",
    "print(forecasts.iloc[:10, :7])\n",
    "# print(forecasts)"
   ]
  },
  {
   "cell_type": "code",
   "execution_count": null,
   "metadata": {},
   "outputs": [],
   "source": [
    "# Construir los errores de pronosticos\n",
    "forecast_errors = forecasts.apply(lambda column: z - column).reindex(forecasts.index)\n",
    "\n",
    "print(forecast_errors.iloc[:10, :5])"
   ]
  },
  {
   "cell_type": "code",
   "execution_count": null,
   "metadata": {},
   "outputs": [],
   "source": [
    "# Reindex los pronosticos en funcion de los horizonte\n",
    "def flatten(column):\n",
    "    return column.dropna().reset_index(drop=True)\n",
    "\n",
    "forecast_horizon = forecast_errors.apply(flatten)\n",
    "forecast_horizon.index = (forecast_horizon.index + 1).rename('horizon')\n",
    "\n",
    "print(forecast_horizon.iloc[:3, :5])"
   ]
  },
  {
   "cell_type": "code",
   "execution_count": null,
   "metadata": {},
   "outputs": [],
   "source": [
    "# Calcular la raiz del mean square error\n",
    "rmse = (forecast_horizon**2).mean(axis=1)**0.5\n",
    "\n",
    "print(rmse)"
   ]
  },
  {
   "cell_type": "markdown",
   "metadata": {},
   "source": [
    "**Segundo (6 puntos).** Repita la pregunta 2.7 pero considere que el proceso que siguen sus datos es el indicado por su profesor. Una vez hecho esto, repita la validación cruzada pero con este nuevo modelo."
   ]
  },
  {
   "cell_type": "code",
   "execution_count": null,
   "metadata": {},
   "outputs": [],
   "source": [
    "# Crear el model para estimar con la muestra del initial training sample\n",
    "init_training_z = z.iloc[:n_init_training]\n",
    "mod = sm.tsa.SARIMAX(training_z, order=(1, 0, 0), trend=None)\n",
    "res = mod.fit()\n",
    "\n",
    "# Guardar los pronosticos inicialest\n",
    "forecasts[training_z.index[-1]] = res.forecast(steps=nforecasts)\n",
    "\n",
    "# Realizar el procedimiento al resto de la muestra\n",
    "for t in range(n_init_training, nobs):\n",
    "    # Actualizar los resultados mediante el agregar una observacion adicional\n",
    "    updated_z = z.iloc[t:t+1]\n",
    "    res = res.append(updated_z, refit=False)\n",
    "\n",
    "    # Guardar los nuevos resultados\n",
    "    forecasts[updated_z.index[0]] = res.forecast(steps=nforecasts)\n",
    "\n",
    "# Combinar todos los pronosticos dentro de un dataframe\n",
    "forecasts = pd.concat(forecasts, axis=1)\n",
    "\n",
    "print(forecasts.iloc[:10, :7])\n",
    "# print(forecasts)"
   ]
  },
  {
   "cell_type": "code",
   "execution_count": null,
   "metadata": {},
   "outputs": [],
   "source": [
    "# Construir los errores de pronosticos\n",
    "forecast_errors = forecasts.apply(lambda column: z - column).reindex(forecasts.index)\n",
    "\n",
    "print(forecast_errors.iloc[:10, :5])"
   ]
  },
  {
   "cell_type": "code",
   "execution_count": null,
   "metadata": {},
   "outputs": [],
   "source": [
    "# Reindex los pronosticos en funcion de los horizonte\n",
    "def flatten(column):\n",
    "    return column.dropna().reset_index(drop=True)\n",
    "\n",
    "forecast_horizon = forecast_errors.apply(flatten)\n",
    "forecast_horizon.index = (forecast_horizon.index + 1).rename('horizon')\n",
    "\n",
    "print(forecast_horizon.iloc[:3, :5])"
   ]
  },
  {
   "cell_type": "code",
   "execution_count": null,
   "metadata": {},
   "outputs": [],
   "source": [
    "# Calcular la raiz del error cuadrático medio\n",
    "rmse = (forecast_horizon**2).mean(axis=1)**0.5\n",
    "\n",
    "print(rmse)"
   ]
  },
  {
   "cell_type": "markdown",
   "metadata": {},
   "source": [
    "**Tercero (2 puntos).** A la luz de estos resultados, ¿qué modelo arroja el menor error cuadrático medio?"
   ]
  },
  {
   "cell_type": "markdown",
   "metadata": {},
   "source": [
    "aquí su respuesta"
   ]
  },
  {
   "cell_type": "markdown",
   "metadata": {},
   "source": [
    "_____\n",
    "_____"
   ]
  },
  {
   "cell_type": "markdown",
   "metadata": {},
   "source": [
    "# Problema (45 puntos)\n",
    "\n",
    "En esta sección usted deberá especificar si la serie de datos tiene una tendencia determinística, o estocástica con o sin drfit, o si el proceso es estacionario. Además deberá indicar si la serie presenta algún quiebre en la media o en la tendencia."
   ]
  },
  {
   "cell_type": "markdown",
   "metadata": {},
   "source": [
    "## Importar la serie apellidos_2 (5 puntos)"
   ]
  },
  {
   "cell_type": "code",
   "execution_count": null,
   "metadata": {},
   "outputs": [],
   "source": [
    "# aquí su código"
   ]
  },
  {
   "cell_type": "markdown",
   "metadata": {},
   "source": [
    "## Grafique la serie (5 puntos)"
   ]
  },
  {
   "cell_type": "code",
   "execution_count": null,
   "metadata": {},
   "outputs": [],
   "source": [
    "# aquí su código"
   ]
  },
  {
   "cell_type": "code",
   "execution_count": null,
   "metadata": {},
   "outputs": [],
   "source": []
  },
  {
   "cell_type": "markdown",
   "metadata": {},
   "source": [
    "Para contestar las siguientes dos preguntas necesitará la siguiente función"
   ]
  },
  {
   "cell_type": "markdown",
   "metadata": {},
   "source": [
    "_____"
   ]
  },
  {
   "cell_type": "code",
   "execution_count": null,
   "metadata": {},
   "outputs": [],
   "source": [
    "def zivot(timeseries,exog):\n",
    "    print ('Results of Zivot-Andrews Test:')\n",
    "    dftest = zivot_andrews(timeseries, trim=0.10, maxlag=None,regression=exog,autolag=None)\n",
    "    dfoutput = pd.Series(dftest[0:2], index=['Test Statistic','p-value'])\n",
    "    for key,value in dftest[2].items():\n",
    "        dfoutput['Critical Value (%s)'%key] = value\n",
    "    #dfoutput['Number of lags']=pd.Series(dftest[3:4])\n",
    "    dfoutput['break']=pd.Series(dftest[4])\n",
    "    print (dfoutput)"
   ]
  },
  {
   "cell_type": "markdown",
   "metadata": {},
   "source": [
    "## Evalue si la serie presenta un quiebre en la media (5 puntos)"
   ]
  },
  {
   "cell_type": "code",
   "execution_count": null,
   "metadata": {},
   "outputs": [],
   "source": [
    "# aquí su código"
   ]
  },
  {
   "cell_type": "markdown",
   "metadata": {},
   "source": [
    "## Evalue si la serie presente un quiebre en la tendencia (5 puntos)"
   ]
  },
  {
   "cell_type": "code",
   "execution_count": null,
   "metadata": {},
   "outputs": [],
   "source": [
    "# aquí su código"
   ]
  },
  {
   "cell_type": "markdown",
   "metadata": {},
   "source": [
    "## Con base en los resultados de la prueba de Zivot y Andrews, ¿qué puede concluir? (5 puntos)"
   ]
  },
  {
   "cell_type": "markdown",
   "metadata": {},
   "source": [
    "aquí su respuesta"
   ]
  },
  {
   "cell_type": "markdown",
   "metadata": {},
   "source": [
    "____\n"
   ]
  },
  {
   "cell_type": "code",
   "execution_count": null,
   "metadata": {},
   "outputs": [],
   "source": [
    "Para contestar la siguiente pregunta necesitará la siguiente función"
   ]
  },
  {
   "cell_type": "code",
   "execution_count": null,
   "metadata": {},
   "outputs": [],
   "source": [
    "def adf_test(timeseries,exog):\n",
    "    print ('Results of Dickey-Fuller Test:')\n",
    "    dftest = adfuller(timeseries, maxlag=5,regression=exog,autolag='AIC')\n",
    "    dfoutput = pd.Series(dftest[0:4], index=['Test Statistic','p-value','#Lags Used','Number of Observations Used'])\n",
    "    for key,value in dftest[4].items():\n",
    "        dfoutput['Critical Value (%s)'%key] = value\n",
    "    print (dfoutput)"
   ]
  },
  {
   "cell_type": "markdown",
   "metadata": {},
   "source": [
    "## ¿Qué tipo de tendencia exhibe la serie? Justifique su respuesta siguiendo detalladamente los pasos que presenta Enders (1995), visto en clases (20 puntos) "
   ]
  },
  {
   "cell_type": "code",
   "execution_count": null,
   "metadata": {},
   "outputs": [],
   "source": [
    "# aquí su código"
   ]
  },
  {
   "cell_type": "markdown",
   "metadata": {},
   "source": [
    "Su conclusión aquí"
   ]
  },
  {
   "cell_type": "code",
   "execution_count": null,
   "metadata": {},
   "outputs": [],
   "source": []
  }
 ],
 "metadata": {
  "kernelspec": {
   "display_name": "Python 3",
   "language": "python",
   "name": "python3"
  },
  "language_info": {
   "codemirror_mode": {
    "name": "ipython",
    "version": 3
   },
   "file_extension": ".py",
   "mimetype": "text/x-python",
   "name": "python",
   "nbconvert_exporter": "python",
   "pygments_lexer": "ipython3",
   "version": "3.7.7"
  },
  "toc": {
   "base_numbering": 1,
   "nav_menu": {},
   "number_sections": true,
   "sideBar": true,
   "skip_h1_title": false,
   "title_cell": "Table of Contents",
   "title_sidebar": "Contents",
   "toc_cell": false,
   "toc_position": {
    "height": "calc(100% - 180px)",
    "left": "10px",
    "top": "150px",
    "width": "165px"
   },
   "toc_section_display": true,
   "toc_window_display": true
  }
 },
 "nbformat": 4,
 "nbformat_minor": 4
}
